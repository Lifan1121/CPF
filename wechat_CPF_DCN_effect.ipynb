{
 "cells": [
  {
   "cell_type": "code",
   "execution_count": 1,
   "metadata": {
    "colab": {
     "base_uri": "https://localhost:8080/"
    },
    "id": "kwECuOJQOkVB",
    "outputId": "669332e7-3091-4fdf-e7cf-0a851a80143a"
   },
   "outputs": [
    {
     "name": "stderr",
     "output_type": "stream",
     "text": [
      "2024-07-29 02:25:22.234994: I tensorflow/core/util/port.cc:113] oneDNN custom operations are on. You may see slightly different numerical results due to floating-point round-off errors from different computation orders. To turn them off, set the environment variable `TF_ENABLE_ONEDNN_OPTS=0`.\n",
      "2024-07-29 02:25:22.265908: E external/local_xla/xla/stream_executor/cuda/cuda_dnn.cc:9261] Unable to register cuDNN factory: Attempting to register factory for plugin cuDNN when one has already been registered\n",
      "2024-07-29 02:25:22.265928: E external/local_xla/xla/stream_executor/cuda/cuda_fft.cc:607] Unable to register cuFFT factory: Attempting to register factory for plugin cuFFT when one has already been registered\n",
      "2024-07-29 02:25:22.266828: E external/local_xla/xla/stream_executor/cuda/cuda_blas.cc:1515] Unable to register cuBLAS factory: Attempting to register factory for plugin cuBLAS when one has already been registered\n",
      "2024-07-29 02:25:22.271953: I tensorflow/core/platform/cpu_feature_guard.cc:182] This TensorFlow binary is optimized to use available CPU instructions in performance-critical operations.\n",
      "To enable the following instructions: AVX2 AVX512F AVX512_VNNI AVX512_BF16 FMA, in other operations, rebuild TensorFlow with the appropriate compiler flags.\n",
      "2024-07-29 02:25:22.958314: W tensorflow/compiler/tf2tensorrt/utils/py_utils.cc:38] TF-TRT Warning: Could not find TensorRT\n"
     ]
    },
    {
     "name": "stdout",
     "output_type": "stream",
     "text": [
      "WARNING:tensorflow:From /tmp/ipykernel_2247/4022545289.py:26: is_gpu_available (from tensorflow.python.framework.test_util) is deprecated and will be removed in a future version.\n",
      "Instructions for updating:\n",
      "Use `tf.config.list_physical_devices('GPU')` instead.\n",
      "True\n",
      "[PhysicalDevice(name='/physical_device:GPU:0', device_type='GPU')]\n"
     ]
    },
    {
     "name": "stderr",
     "output_type": "stream",
     "text": [
      "2024-07-29 02:25:23.957401: I tensorflow/core/common_runtime/gpu/gpu_device.cc:1929] Created device /device:GPU:0 with 22283 MB memory:  -> device: 0, name: NVIDIA GeForce RTX 4090, pci bus id: 0000:43:00.0, compute capability: 8.9\n",
      "2024-07-29 02:25:23.961593: I tensorflow/core/common_runtime/gpu/gpu_device.cc:1929] Created device /job:localhost/replica:0/task:0/device:GPU:0 with 22283 MB memory:  -> device: 0, name: NVIDIA GeForce RTX 4090, pci bus id: 0000:43:00.0, compute capability: 8.9\n"
     ]
    }
   ],
   "source": [
    "import warnings\n",
    "warnings.filterwarnings(\"ignore\")\n",
    "import os\n",
    "os.environ[\"CUDA_VISIBLE_DEVICES\"] = \"0\"\n",
    "\n",
    "import pandas as pd\n",
    "import numpy as np\n",
    "import matplotlib.pyplot as plt\n",
    "\n",
    "import tensorflow as tf\n",
    "import random\n",
    "from tensorflow.keras import backend as K\n",
    "from tensorflow.keras.utils import plot_model\n",
    "from tensorflow.keras import layers\n",
    "from tensorflow.keras import Model\n",
    "import pandas as pd\n",
    "import numpy as np\n",
    "import tensorflow as tf\n",
    "from sklearn.preprocessing import LabelEncoder\n",
    "from sklearn.model_selection import train_test_split\n",
    "from sklearn.metrics import roc_auc_score\n",
    "from tensorflow import keras\n",
    "from tqdm import tqdm\n",
    "\n",
    "\n",
    "print(tf.test.is_gpu_available())\n",
    "print(tf.config.list_physical_devices('GPU'))\n",
    "config = tf.compat.v1.ConfigProto()\n",
    "config.gpu_options.allow_growth=True\n",
    "sess = tf.compat.v1.Session(config=config)\n",
    "\n",
    "def seed_tensorflow(seed):\n",
    "    random.seed(seed)\n",
    "    os.environ['PYTHONHASHSEED'] = str(seed)\n",
    "    np.random.seed(seed)\n",
    "    tf.random.set_seed(seed)\n",
    "    session_conf = tf.compat.v1.ConfigProto(intra_op_parallelism_threads=1, inter_op_parallelism_threads=1)\n",
    "    sess = tf.compat.v1.Session(config=session_conf)\n",
    "    tf.compat.v1.keras.backend.set_session(sess)"
   ]
  },
  {
   "cell_type": "code",
   "execution_count": 2,
   "metadata": {},
   "outputs": [],
   "source": [
    "# binary_train_label\n",
    "# short_play\n",
    "# effective_play\n",
    "# long_play\n",
    "# complete_play\n",
    "select_label = 'effective_play'\n",
    "\n",
    "# base_model = \"./model/kuairand_backbone/mlp_{}.h5\".format(select_label)\n",
    "CPF_model = \"./model/wechat_CPF/DCN_{}.h5\".format(select_label)"
   ]
  },
  {
   "cell_type": "code",
   "execution_count": 3,
   "metadata": {
    "id": "HR60fa-TOkVD"
   },
   "outputs": [],
   "source": [
    "para = {'data_path':'./wechat_input/',\n",
    "        'embedding_dim':64,\n",
    "        'seed':0,\n",
    "        'lr':1e-5,\n",
    "        'batch_size':512,\n",
    "        'epochs':64,\n",
    "        'verbose':1,\n",
    "        'callback':{\n",
    "                     'monitor':'val_auc',\n",
    "                     'patience':10,\n",
    "                     'CPF_model':CPF_model\n",
    "                     },\n",
    "        'mlp_dims':[256,128,64],\n",
    "        'mlp_act':'relu',\n",
    "        'mlp_dps':[.5,.5,.5],\n",
    "       }"
   ]
  },
  {
   "cell_type": "code",
   "execution_count": 4,
   "metadata": {
    "id": "pTEhArDxOkVE"
   },
   "outputs": [],
   "source": [
    "action = pd.read_csv(para['data_path']+\"action.csv\")\n",
    "feed_emb1 = np.load(para['data_path']+\"feedid_emb_64.npy\")\n",
    "feed_emb2 = np.load(para['data_path']+\"embeddings_array_wechat.npy\")"
   ]
  },
  {
   "cell_type": "code",
   "execution_count": 5,
   "metadata": {},
   "outputs": [],
   "source": [
    "action = action.sort_values(by=['date_'])\n",
    "train= action.groupby('userid').apply(lambda x: x[:int(len(x)*0.6)]).reset_index(drop=True)\n",
    "valid= action.groupby('userid').apply(lambda x: x[int(len(x)*0.6):int(len(x)*0.8)]).reset_index(drop=True)\n",
    "test= action.groupby('userid').apply(lambda x: x[int(len(x)*0.8):]).reset_index(drop=True)"
   ]
  },
  {
   "cell_type": "markdown",
   "metadata": {},
   "source": []
  },
  {
   "cell_type": "code",
   "execution_count": 6,
   "metadata": {},
   "outputs": [
    {
     "name": "stderr",
     "output_type": "stream",
     "text": [
      "2024-07-29 02:25:48.030042: I tensorflow/core/common_runtime/gpu/gpu_device.cc:1929] Created device /job:localhost/replica:0/task:0/device:GPU:0 with 22283 MB memory:  -> device: 0, name: NVIDIA GeForce RTX 4090, pci bus id: 0000:43:00.0, compute capability: 8.9\n"
     ]
    }
   ],
   "source": [
    "seed_tensorflow(seed=para['seed'])\n",
    "features = ['userid','device','feedid','authorid','duration_level','feedid','feedid',select_label]\n",
    "\n",
    "# # short_play binary_train_label effective_play long_play complete_play\n",
    "def get_input(df,is_test=False):\n",
    "    X = []\n",
    "    for f in features:\n",
    "        X.append(df[f].values.reshape(-1,1))\n",
    "    y = [df[select_label].values.reshape(-1,1)]\n",
    "    return X,y\n",
    "\n",
    "X_train,y_train = get_input(train,is_test=False)\n",
    "X_valid,y_valid = get_input(valid,is_test=False)\n",
    "X_test,y_test = get_input(test,is_test=True)"
   ]
  },
  {
   "cell_type": "code",
   "execution_count": 7,
   "metadata": {},
   "outputs": [
    {
     "name": "stderr",
     "output_type": "stream",
     "text": [
      "2024-07-29 02:25:48.054122: I tensorflow/core/common_runtime/gpu/gpu_device.cc:1929] Created device /job:localhost/replica:0/task:0/device:GPU:0 with 22283 MB memory:  -> device: 0, name: NVIDIA GeForce RTX 4090, pci bus id: 0000:43:00.0, compute capability: 8.9\n"
     ]
    }
   ],
   "source": [
    "seed_tensorflow(seed=para['seed'])\n",
    "\n",
    "def get_layer(shape,name,dtype='int32',d1=None,d2=None,pretrain=None,trainable=False):\n",
    "    model = tf.keras.Sequential()\n",
    "    model.add(tf.keras.layers.Input(shape=shape, name=name+'_input', dtype=dtype))\n",
    "    if d1 is None:\n",
    "        d1 = pretrain.shape[0]\n",
    "        d2 = pretrain.shape[1]\n",
    "    model.add(tf.keras.layers.Embedding(input_dim=int(d1),\n",
    "                       output_dim=int(d2),\n",
    "                       weights=[pretrain] if pretrain is not None else None,\n",
    "                       trainable=trainable,\n",
    "                       name=name+'_embedding'))\n",
    "    return model\n",
    "\n",
    "def mlp_bias():\n",
    "    uid_lay = get_layer((1,),'uid',d1 = max(action['userid'])+1,d2 = para['embedding_dim'],trainable=True)\n",
    "    did_lay = get_layer((1,),'did',d1 = max(action['device'])+1,d2 = int(para['embedding_dim']),trainable=True)\n",
    "\n",
    "    vid_lay = get_layer((1,),'vid',d1 = max(action['feedid'])+1,d2 = para['embedding_dim'],trainable=True)\n",
    "    aid_lay = get_layer((1,),'aid',d1 = max(action['authorid'])+1,d2 = para['embedding_dim'],trainable=True)\n",
    "    pre_lay_1 = get_layer((1,),'pretrain1',pretrain = feed_emb1,trainable=False)\n",
    "\n",
    "    pre_lay_2 = get_layer((1,),'pretrain2',pretrain = feed_emb2,trainable=False)\n",
    "    duration_lay = get_layer((1,),'duration_id',d1 = max(action['duration_level'])+1, d2=para['embedding_dim'],trainable=True)\n",
    "    \n",
    "    label_input = tf.keras.layers.Input(shape=(1,), name='labels')\n",
    "    Lay_bi =[uid_lay,did_lay,vid_lay,aid_lay,duration_lay,pre_lay_1,pre_lay_2]\n",
    "    lay_bi_outs = []\n",
    "    for l in Lay_bi:\n",
    "        lay_bi_outs += l.outputs\n",
    "\n",
    "    vec = tf.keras.layers.concatenate(lay_bi_outs,axis=-1)\n",
    "    vec = tf.squeeze(vec,axis=1)\n",
    "    \n",
    "    model_inputs = []\n",
    "    for l in Lay_bi:\n",
    "        model_inputs += l.inputs\n",
    "    model_inputs += [label_input]\n",
    "    model = tf.keras.Model(inputs=model_inputs,outputs=[vec])\n",
    "    return model # 返回一个模型"
   ]
  },
  {
   "cell_type": "code",
   "execution_count": 8,
   "metadata": {},
   "outputs": [
    {
     "name": "stderr",
     "output_type": "stream",
     "text": [
      "2024-07-29 02:25:48.581538: I tensorflow/core/common_runtime/gpu/gpu_device.cc:1929] Created device /job:localhost/replica:0/task:0/device:GPU:0 with 22283 MB memory:  -> device: 0, name: NVIDIA GeForce RTX 4090, pci bus id: 0000:43:00.0, compute capability: 8.9\n"
     ]
    }
   ],
   "source": [
    "base_embed = mlp_bias()"
   ]
  },
  {
   "cell_type": "code",
   "execution_count": 9,
   "metadata": {},
   "outputs": [],
   "source": [
    "embed_inputs = base_embed.outputs[0]"
   ]
  },
  {
   "cell_type": "code",
   "execution_count": 10,
   "metadata": {},
   "outputs": [],
   "source": [
    "def cross_layer(x0, xl):\n",
    "    \"\"\"\n",
    "    实现一层cross layer\n",
    "    @param x0: 特征embeddings\n",
    "    @param xl: 第l层的输出结果\n",
    "    \"\"\"\n",
    "    # 1.获取xl层的embedding size\n",
    "    embed_dim = xl.shape[-1]\n",
    "    # 2.初始化当前层的W和b\n",
    "    w = tf.Variable(tf.random.truncated_normal(shape=(embed_dim,), stddev=0.01))\n",
    "    b = tf.Variable(tf.zeros(shape=(embed_dim,)))\n",
    "    # 3.计算feature crossing\n",
    "    x_lw = tf.tensordot(tf.reshape(xl, [-1, 1, embed_dim]), w, axes=1)\n",
    "    cross = x0 * x_lw \n",
    "    return cross + b + xl"
   ]
  },
  {
   "cell_type": "code",
   "execution_count": 11,
   "metadata": {},
   "outputs": [],
   "source": [
    "def build_cross_layer(x0, num_layer=3):\n",
    "    \"\"\"\n",
    "    构建多层cross layer\n",
    "    @param x0: 所有特征的embeddings\n",
    "    @param num_layers: cross net的层数\n",
    "    \"\"\"\n",
    "    # 初始化xl为x0\n",
    "    xl = x0\n",
    "    # 构建多层cross net\n",
    "    for i in range(num_layer):\n",
    "        xl = cross_layer(x0, xl)\n",
    "    \n",
    "    return xl"
   ]
  },
  {
   "cell_type": "code",
   "execution_count": 12,
   "metadata": {},
   "outputs": [
    {
     "name": "stdout",
     "output_type": "stream",
     "text": [
      "WARNING:tensorflow:The following Variables were used in a Lambda layer's call (tf.tensordot), but are not present in its tracked objects:   <tf.Variable 'Variable:0' shape=(448,) dtype=float32>. This is a strong indication that the Lambda layer should be rewritten as a subclassed Layer.\n",
      "WARNING:tensorflow:The following Variables were used in a Lambda layer's call (tf.__operators__.add), but are not present in its tracked objects:   <tf.Variable 'Variable:0' shape=(448,) dtype=float32>. This is a strong indication that the Lambda layer should be rewritten as a subclassed Layer.\n",
      "WARNING:tensorflow:The following Variables were used in a Lambda layer's call (tf.tensordot_1), but are not present in its tracked objects:   <tf.Variable 'Variable:0' shape=(448,) dtype=float32>. This is a strong indication that the Lambda layer should be rewritten as a subclassed Layer.\n",
      "WARNING:tensorflow:The following Variables were used in a Lambda layer's call (tf.__operators__.add_2), but are not present in its tracked objects:   <tf.Variable 'Variable:0' shape=(448,) dtype=float32>. This is a strong indication that the Lambda layer should be rewritten as a subclassed Layer.\n",
      "WARNING:tensorflow:The following Variables were used in a Lambda layer's call (tf.tensordot_2), but are not present in its tracked objects:   <tf.Variable 'Variable:0' shape=(448,) dtype=float32>. This is a strong indication that the Lambda layer should be rewritten as a subclassed Layer.\n",
      "WARNING:tensorflow:The following Variables were used in a Lambda layer's call (tf.__operators__.add_4), but are not present in its tracked objects:   <tf.Variable 'Variable:0' shape=(448,) dtype=float32>. This is a strong indication that the Lambda layer should be rewritten as a subclassed Layer.\n"
     ]
    }
   ],
   "source": [
    "cross_layer_output = build_cross_layer(embed_inputs, 3)"
   ]
  },
  {
   "cell_type": "code",
   "execution_count": 13,
   "metadata": {},
   "outputs": [
    {
     "data": {
      "text/plain": [
       "<KerasTensor: shape=(None, 448) dtype=float32 (created by layer 'tf.__operators__.add_5')>"
      ]
     },
     "execution_count": 13,
     "metadata": {},
     "output_type": "execute_result"
    }
   ],
   "source": [
    "cross_layer_output"
   ]
  },
  {
   "cell_type": "code",
   "execution_count": 14,
   "metadata": {},
   "outputs": [],
   "source": [
    "fc_layer = tf.keras.layers.Dropout(0.5)(tf.keras.layers.Dense(256, activation='relu')(embed_inputs))\n",
    "fc_layer = tf.keras.layers.Dropout(0.5)(tf.keras.layers.Dense(128, activation='relu')(fc_layer))\n",
    "fc_layer_output = tf.keras.layers.Dropout(0.5)(tf.keras.layers.Dense(64, activation='relu')(fc_layer))"
   ]
  },
  {
   "cell_type": "code",
   "execution_count": 15,
   "metadata": {},
   "outputs": [
    {
     "data": {
      "text/plain": [
       "<KerasTensor: shape=(None, 64) dtype=float32 (created by layer 'dropout_2')>"
      ]
     },
     "execution_count": 15,
     "metadata": {},
     "output_type": "execute_result"
    }
   ],
   "source": [
    "fc_layer_output"
   ]
  },
  {
   "cell_type": "code",
   "execution_count": 16,
   "metadata": {},
   "outputs": [],
   "source": [
    "stack_layer = tf.keras.layers.Concatenate()([cross_layer_output, fc_layer_output])"
   ]
  },
  {
   "cell_type": "code",
   "execution_count": 17,
   "metadata": {},
   "outputs": [
    {
     "data": {
      "text/plain": [
       "<KerasTensor: shape=(None, 512) dtype=float32 (created by layer 'concatenate_1')>"
      ]
     },
     "execution_count": 17,
     "metadata": {},
     "output_type": "execute_result"
    }
   ],
   "source": [
    "stack_layer"
   ]
  },
  {
   "cell_type": "code",
   "execution_count": 18,
   "metadata": {},
   "outputs": [],
   "source": [
    "class Prototypes(tf.keras.layers.Layer):\n",
    "    name = 'prototypes'\n",
    "    def __init__(self,\n",
    "                 k ,\n",
    "                 beta1=0.0,\n",
    "                 beta2=0.0,\n",
    "                 beta3=0.0,\n",
    "                 init_prototypes = None,\n",
    "                 **kwargs):\n",
    "        super(Prototypes, self).__init__(**kwargs)\n",
    "        self.k = k\n",
    "        self.beta1, self.beta2, self.beta3 = beta1, beta2, beta3\n",
    "        # y_train[0]\n",
    "        self.init_prototypes = init_prototypes\n",
    "        self.binary_classifiers = []\n",
    "        # \n",
    "        for _ in range(5):\n",
    "            mlp = tf.keras.Sequential([\n",
    "                tf.keras.layers.Dense(1, activation='sigmoid')\n",
    "            ])\n",
    "            mlp.build((None, 512))\n",
    "            self.binary_classifiers.append(mlp)\n",
    "            \n",
    "    # define prototype\n",
    "    def build(self, input_shape):\n",
    "        self.prototypes = self.add_weight(\n",
    "            name='prototypes',\n",
    "            shape=(1, self.k, 512),\n",
    "            initializer=tf.keras.initializers.Constant(self.init_prototypes[tf.newaxis, :, :]),\n",
    "            trainable=True\n",
    "        )\n",
    "        super(Prototypes, self).build(input_shape)\n",
    "\n",
    "    \n",
    "    def orthogonality_loss(self,prototypes, k):\n",
    "        # 确保传入的 k 是偶数\n",
    "        assert k % 2 == 0, \"k must be even.\"\n",
    "        D = k // 2\n",
    "\n",
    "        prototypes = tf.reshape(prototypes, [k, 512])\n",
    "        prototypes = tf.nn.l2_normalize(prototypes, axis=1)\n",
    "\n",
    "        cosine_similarity_matrix = tf.matmul(prototypes, prototypes, transpose_b=True)\n",
    "\n",
    "        upper_triangular_part = tf.linalg.band_part(cosine_similarity_matrix, 0, -1)\n",
    "        upper_triangular_part -= tf.linalg.band_part(cosine_similarity_matrix, 0, 0)  # 去掉对角线\n",
    "\n",
    "        loss = tf.reduce_sum(tf.square(upper_triangular_part))\n",
    "        normalization_factor = D * (2 * D - 1)\n",
    "        loss /= normalization_factor\n",
    "\n",
    "        return loss\n",
    "\n",
    "    def contrastive_loss(self, vec, labels, duration):\n",
    "        # Normalize the vectors\n",
    "        vec_norm = tf.nn.l2_normalize(vec, axis=1)\n",
    "        #print(\"vec_norm\",vec_norm)\n",
    "        sim_matrix = tf.matmul(vec_norm, vec_norm, transpose_b=True)\n",
    "        #print(\"sim_matrix\",sim_matrix)\n",
    "        # Create masks\n",
    "        label_eq = tf.equal(labels, tf.transpose(labels))\n",
    "        #print(\"label_eq\",label_eq)\n",
    "        duration_eq = tf.equal(duration, tf.transpose(duration))\n",
    "        #print(\"duration_eq\",duration_eq)\n",
    "        mask = tf.logical_and(label_eq, duration_eq)\n",
    "        mask = tf.cast(mask, dtype=tf.float32)\n",
    "        #print(\"mask\",mask)\n",
    "\n",
    "        # Compute the softmax denominator\n",
    "        exp_sim = tf.exp(sim_matrix)\n",
    "        total_sum = tf.reduce_sum(exp_sim)\n",
    "        #print(\"total_sum\",total_sum)\n",
    "        normal_sim = exp_sim / total_sum\n",
    "        #print(\"normal_sim\",normal_sim)\n",
    "\n",
    "        log_normal_sim = tf.math.log(normal_sim)\n",
    "        weighted_log_prob = mask * log_normal_sim\n",
    "\n",
    "        num_ones = tf.reduce_sum(mask)\n",
    "\n",
    "        loss = -tf.reduce_sum(weighted_log_prob)\n",
    "        return loss/num_ones\n",
    "\n",
    "    def assign_loss(self,output, vec):\n",
    "\n",
    "\n",
    "        output_norm = tf.nn.l2_normalize(output, axis=1)\n",
    "        vec_norm = tf.nn.l2_normalize(vec, axis=1)\n",
    "\n",
    "        cosine_similarity = tf.reduce_sum(tf.multiply(output_norm, vec_norm), axis=1)\n",
    "        loss = 1 - tf.reduce_mean(cosine_similarity)\n",
    "        return loss\n",
    "    def get_alpha(self,n_batch,duration_one_hot_expanded,alpha_product):\n",
    "        \"\"\"\n",
    "        alpha_product : (n,10,1)\n",
    "        duration_one_hot_expanded: (n,5,1)\n",
    "        \"\"\"\n",
    "        expanded_alpha = tf.reshape(alpha_product, [n_batch, 5, 2, 1])\n",
    "        masked = expanded_alpha * tf.cast(duration_one_hot_expanded, tf.float32)[:, :, :, tf.newaxis]\n",
    "        # n,2,1\n",
    "        alpha_para = tf.reduce_sum(masked, axis=1)\n",
    "        alpha_neg = alpha_para[:, 0, :]  # 第一个元素，保留最后一个轴\n",
    "        alpha_pos = alpha_para[:, 1, :]  # 第二个元素，保留最后一个轴\n",
    "        return alpha_neg,alpha_pos\n",
    "    def mse_loss(self,vec,label):\n",
    "        vec = tf.convert_to_tensor(vec, dtype=tf.float32)\n",
    "\n",
    "        label = tf.convert_to_tensor(label, dtype=tf.float32)\n",
    "\n",
    "        squeezed_label = tf.squeeze(label)\n",
    "\n",
    "        #tf.print(label, summarize=-1)\n",
    "        positive_indices = tf.where(squeezed_label == 1)\n",
    "        negative_indices = tf.where(squeezed_label == 0)\n",
    "\n",
    "        positive_samples = tf.gather(vec, positive_indices)\n",
    "        negative_samples = tf.gather(vec, negative_indices)\n",
    "        positive_samples = tf.squeeze(positive_samples,axis=1)\n",
    "        negative_samples = tf.squeeze(negative_samples,axis=1)\n",
    "        positive_loss = tf.reduce_mean(tf.square(positive_samples - self.pos_mean_prototype))\n",
    "        negative_loss = tf.reduce_mean(tf.square(negative_samples - self.neg_mean_prototype))\n",
    "\n",
    "        total_loss = positive_loss * 0.7 + negative_loss * 0.3\n",
    "\n",
    "        return total_loss\n",
    "\n",
    "    def binary_loss(self,y_true, y_pred):\n",
    "        bce = tf.keras.losses.BinaryCrossentropy(from_logits=False)\n",
    "        loss = bce(y_true, y_pred)\n",
    "        return loss     \n",
    "    \n",
    "    def create_mask(self,duration, batch_size, num_classes=40, bucket_size=8):\n",
    "        start_indices = duration * bucket_size\n",
    "        masks = []\n",
    "        for i in range(batch_size):\n",
    "            mask = tf.concat([\n",
    "                tf.zeros((start_indices[i, 0], 1), dtype=tf.float32),\n",
    "                tf.ones((bucket_size, 1), dtype=tf.float32),\n",
    "                tf.zeros((num_classes - start_indices[i, 0] - bucket_size, 1), dtype=tf.float32)\n",
    "            ], axis=0)\n",
    "            masks.append(mask)\n",
    "        return tf.stack(masks)\n",
    "    def binary_crossentropy_manual(self, y_true, y_pred,para):\n",
    "        y_true = tf.convert_to_tensor(y_true, dtype=tf.float32)\n",
    "        y_pred = tf.convert_to_tensor(y_pred, dtype=tf.float32)\n",
    "\n",
    "        # 防止 log(0) 的情况发生\n",
    "        epsilon = tf.keras.backend.epsilon()\n",
    "        y_pred = tf.clip_by_value(y_pred, epsilon, 1. - epsilon)\n",
    "\n",
    "        loss = -y_true * tf.math.log(y_pred) - (1 - y_true) * tf.math.log(1 - y_pred)\n",
    "\n",
    "        weights = tf.where(y_true == 1, para, 1.0)\n",
    "        weighted_loss = loss * weights\n",
    "\n",
    "        positive_loss = tf.boolean_mask(weighted_loss, y_true == 1)\n",
    "        negative_loss = tf.boolean_mask(weighted_loss, y_true == 0)\n",
    "        #total_positive_loss = tf.reduce_sum(positive_loss)\n",
    "        #total_negative_loss = tf.reduce_sum(negative_loss)\n",
    "\n",
    "        return tf.reduce_mean(weighted_loss)\n",
    "    def prototype_loss(self,prototypes_output):\n",
    "        bce = tf.keras.losses.BinaryCrossentropy(from_logits=False)\n",
    "        labels = tf.constant([[0], [1], [0], [1], [0], [1], [0], [1], [0], [1]], dtype=tf.float32)\n",
    "        loss = bce(labels, prototypes_output)\n",
    "        return loss\n",
    "    \n",
    "    def call(self, x, training=None):\n",
    "\n",
    "        vec,duration,label = x\n",
    "        #vec = x\n",
    "        #tf.print(vec.shape)\n",
    "        #tf.print(duration.shape)\n",
    "        #tf.print(label.shape)\n",
    "        a = tf.expand_dims(vec, -2)\n",
    "\n",
    "        b = self.prototypes\n",
    "        n_batch = tf.shape(vec)[0]\n",
    "\n",
    "        dot_product = tf.multiply(a, b)\n",
    "\n",
    "        norm_a = tf.norm(a, axis=-1, keepdims=True)  # 保持维度，使得维度是 [batch_size, 1, 1]\n",
    "\n",
    "        norm_b = tf.norm(b, axis=-1, keepdims=True)  # 保持维度，使得维度是 [1, k, 1]\n",
    "\n",
    "        # (batch_size, k,1)\n",
    "        sum_product = tf.reduce_sum(dot_product, axis=-1, keepdims=True)\n",
    "        cos_similarity = sum_product / (norm_a * norm_b)\n",
    "        \n",
    "        #tf.print(cos_similarity.shape)\n",
    "        \"\"\"\n",
    "        tf.print(vec,summarize=-1)\n",
    "        tf.print(self.prototypes,summarize=-1)\n",
    "        tf.print(\"Input duration\")\n",
    "        tf.print(duration.shape)\n",
    "        tf.print(\"Input label\")\n",
    "        tf.print(label.shape)\n",
    "        #tf.print(vec)        \"\"\"\"\"\"\n",
    "\n",
    "        tf.print(norm_a.shape)\n",
    "        tf.print(norm_a)\n",
    "\n",
    "        tf.print(norm_b.shape)\n",
    "        tf.print(norm_b)\n",
    "\n",
    "        tf.print(cos_similarity, summarize=-1)\n",
    "        \"\"\"\n",
    "        # （batch_size, k//2, 2, 1)\n",
    "        reshaped_sum_product = tf.reshape(cos_similarity, (n_batch, self.k // 2, 2))\n",
    "\n",
    "        temperature = 0.05\n",
    "\n",
    "        scaled_logits = reshaped_sum_product / temperature\n",
    "\n",
    "        softmaxed_sum_product = tf.nn.softmax(scaled_logits, axis=2)\n",
    "\n",
    "        # (batch_size, k,1)\n",
    "        alpha_product = tf.reshape(softmaxed_sum_product, (n_batch, self.k, 1))\n",
    "        #tf.print(alpha_product,summarize=-1)\n",
    "        \"\"\"\n",
    "        tf.print(alpha_product.shape)\n",
    "        tf.print(alpha_product)\n",
    "        \"\"\"\n",
    "        #self.new = alpha_product\n",
    "        # n_batch, self.k, 64\n",
    "        # b:(1, k, 64)\n",
    "        alpha_product_expanded = tf.broadcast_to(alpha_product, [n_batch, self.k, 512])\n",
    "\n",
    "        # calculate\n",
    "        weighted_products = alpha_product_expanded * b\n",
    "\n",
    "        # add up\n",
    "        reshaped_weighted_products = tf.reshape(weighted_products, [n_batch, self.k//2, 2, 512])\n",
    "\n",
    "        # (batchsize,5,64)\n",
    "        pre_output = tf.reduce_sum(reshaped_weighted_products, axis=2)  # 对第三个维度求和\n",
    "\n",
    "        # 1 -> [0,1,0,0,0]\n",
    "        duration_one_hot = tf.one_hot(duration, depth=5)\n",
    "        duration_one_hot_expanded = tf.expand_dims(duration_one_hot, -1)\n",
    "        #(batch_size, 5, 1)\n",
    "        duration_one_hot_expanded = tf.squeeze(duration_one_hot_expanded, axis=[1])\n",
    "\n",
    "        masked_output = pre_output * duration_one_hot_expanded\n",
    "        # output (batchsize,64)\n",
    "        output = tf.reduce_sum(masked_output, axis=1)\n",
    "\n",
    "\n",
    "        # get_alpha\n",
    "        alpha_neg, alpha_pos = self.get_alpha(n_batch,duration_one_hot_expanded,alpha_product)\n",
    "        #tf.print(alpha_pos,summarize = -1)\n",
    "        #tf.print(alpha_neg,summarize = -1)\n",
    "        #tf.print(alpha_pos,summarize   =-1)\n",
    "        #tf.print(label, summarize=-1)\n",
    "        classifier_outputs = []\n",
    "\n",
    "\n",
    "        \n",
    "        for i in range(5):\n",
    "            classifier_output = self.binary_classifiers[i](tf.squeeze(self.prototypes,axis=0))\n",
    "             # (batch_size, 1, 1)#\n",
    "            #classifier_output += i\n",
    "            classifier_outputs.append(classifier_output)\n",
    "        \n",
    "        #tf.print(classifier_outputs,summarize = -1)\n",
    "        #tf.print(classifier_outputs.shape,summarize = -1)\n",
    "        indices = [0, 1, 2, 3, 4, 5, 6, 7, 8, 9]  \n",
    "        prototype_output_elements = []\n",
    "\n",
    "        for i, idx in enumerate(indices):\n",
    "            tensor_index = i // 2  \n",
    "            element = tf.gather(classifier_outputs[tensor_index], idx, axis=0) \n",
    "            prototype_output_elements.append(element)\n",
    "\n",
    "        prototype_output = tf.concat(prototype_output_elements, axis=0)\n",
    "        prototype_output = tf.expand_dims(prototype_output,axis=1)\n",
    "        #(1,10)\n",
    "        #tf.print(prototype_output)\n",
    "\n",
    "        positive_indices = 2 * duration + 1\n",
    "        negative_indices = 2 * duration\n",
    "\n",
    "        positive_indices = tf.clip_by_value(positive_indices, 0, prototype_output.shape[0] - 1)\n",
    "        negative_indices = tf.clip_by_value(negative_indices, 0, prototype_output.shape[0] - 1)\n",
    "        #tf.print(alpha_pos,summarize = -1)\n",
    "        # 提取对应的 prototype_output 值\n",
    "        positive_values = tf.gather(prototype_output, positive_indices)\n",
    "        negative_values = tf.gather(prototype_output, negative_indices)\n",
    "        #positive_values = tf.squeeze(positive_values,axis=0)\n",
    "        #negative_values = tf.squeeze(negative_values,axis=0)\n",
    "        output = alpha_pos * tf.squeeze(positive_values,axis=-1) \n",
    "        assign_loss = self.assign_loss(output,vec)\n",
    "        #tf.print(label,summarize = -1)\n",
    "        #tf.print(alpha_pos,summarize = -1)\n",
    "        new = self.binary_loss(label,output)\n",
    "        assign = self.binary_loss(label,alpha_pos)\n",
    "        self.add_loss(0.1 * assign)\n",
    "\n",
    "        ortho_loss = self.orthogonality_loss(self.prototypes,self.k)\n",
    "        self.add_loss(0.3 * ortho_loss)\n",
    "\n",
    "        contrastive_loss = self.contrastive_loss(vec,label,duration)\n",
    "        self.add_loss(0.12 * contrastive_loss)\n",
    "\n",
    "        proto_loss = self.prototype_loss(prototype_output)\n",
    "        self.add_loss(0.1 * proto_loss)\n",
    "        #tf.print(new)\n",
    "        #tf.print(assign)\n",
    "        #tf.print(ortho_loss)\n",
    "        #tf.print(contrastive_loss)\n",
    "        #tf.print(proto_loss)\n",
    "        return output"
   ]
  },
  {
   "cell_type": "code",
   "execution_count": 19,
   "metadata": {},
   "outputs": [],
   "source": [
    "proto_tensor = tf.random.normal([10, 512], mean=0.0, stddev=1.0, dtype=tf.float32)"
   ]
  },
  {
   "cell_type": "code",
   "execution_count": null,
   "metadata": {},
   "outputs": [],
   "source": []
  },
  {
   "cell_type": "code",
   "execution_count": null,
   "metadata": {},
   "outputs": [],
   "source": []
  },
  {
   "cell_type": "code",
   "execution_count": 20,
   "metadata": {},
   "outputs": [
    {
     "name": "stderr",
     "output_type": "stream",
     "text": [
      "2024-07-29 02:25:51.199841: I tensorflow/core/common_runtime/gpu/gpu_device.cc:1929] Created device /job:localhost/replica:0/task:0/device:GPU:0 with 22283 MB memory:  -> device: 0, name: NVIDIA GeForce RTX 4090, pci bus id: 0000:43:00.0, compute capability: 8.9\n",
      "2024-07-29 02:25:51.907165: I tensorflow/core/common_runtime/gpu/gpu_device.cc:1929] Created device /job:localhost/replica:0/task:0/device:GPU:0 with 22283 MB memory:  -> device: 0, name: NVIDIA GeForce RTX 4090, pci bus id: 0000:43:00.0, compute capability: 8.9\n"
     ]
    }
   ],
   "source": [
    "from tensorflow.keras.models import Model\n",
    "seed_tensorflow(seed=para['seed'])\n",
    "duration_id_input_output = base_embed.get_layer(\"duration_id_input\").output\n",
    "labels_output = base_embed.get_layer(\"labels\").output\n",
    "flag = 1\n",
    "if flag:\n",
    "    prototypes_layer = Prototypes(k=10,init_prototypes = proto_tensor\n",
    "                                  )\n",
    "\n",
    "    output = prototypes_layer([stack_layer,duration_id_input_output,labels_output])\n",
    "    #output = prototypes_layer([outputs])\n",
    "    #output.shape\n",
    "else:\n",
    "    output = tf.keras.layers.Dense(1, activation='sigmoid')(stack_layer)\n",
    "\n",
    "\n",
    "model = tf.keras.Model(inputs=base_embed.inputs, outputs=[output])\n",
    "\n",
    "seed_tensorflow(seed=para['seed'])\n",
    "\n",
    "adam=tf.keras.optimizers.Adam(learning_rate=para['lr'])\n",
    "model.compile(\n",
    "    optimizer=adam,\n",
    "    loss='binary_crossentropy',\n",
    "    metrics=[tf.keras.metrics.AUC(name='auc')]  # 确保度量名称与回调中使用的名称匹配\n",
    ")\n",
    "\n",
    "\n"
   ]
  },
  {
   "cell_type": "code",
   "execution_count": null,
   "metadata": {},
   "outputs": [],
   "source": []
  },
  {
   "cell_type": "code",
   "execution_count": null,
   "metadata": {},
   "outputs": [],
   "source": []
  },
  {
   "cell_type": "code",
   "execution_count": null,
   "metadata": {},
   "outputs": [],
   "source": []
  },
  {
   "cell_type": "code",
   "execution_count": 21,
   "metadata": {},
   "outputs": [
    {
     "name": "stderr",
     "output_type": "stream",
     "text": [
      "2024-07-29 02:25:51.933698: I tensorflow/core/common_runtime/gpu/gpu_device.cc:1929] Created device /job:localhost/replica:0/task:0/device:GPU:0 with 22283 MB memory:  -> device: 0, name: NVIDIA GeForce RTX 4090, pci bus id: 0000:43:00.0, compute capability: 8.9\n"
     ]
    },
    {
     "name": "stdout",
     "output_type": "stream",
     "text": [
      "Epoch 1/64\n"
     ]
    },
    {
     "name": "stderr",
     "output_type": "stream",
     "text": [
      "2024-07-29 02:25:56.404547: I external/local_xla/xla/service/service.cc:168] XLA service 0x7ef9c5b53c70 initialized for platform CUDA (this does not guarantee that XLA will be used). Devices:\n",
      "2024-07-29 02:25:56.404568: I external/local_xla/xla/service/service.cc:176]   StreamExecutor device (0): NVIDIA GeForce RTX 4090, Compute Capability 8.9\n",
      "2024-07-29 02:25:56.408759: I tensorflow/compiler/mlir/tensorflow/utils/dump_mlir_util.cc:269] disabling MLIR crash reproducer, set env var `MLIR_CRASH_REPRODUCER_DIRECTORY` to enable.\n",
      "2024-07-29 02:25:56.434083: I external/local_xla/xla/stream_executor/cuda/cuda_dnn.cc:454] Loaded cuDNN version 8904\n",
      "WARNING: All log messages before absl::InitializeLog() is called are written to STDERR\n",
      "I0000 00:00:1722191156.549723    2969 device_compiler.h:186] Compiled cluster using XLA!  This line is logged at most once for the lifetime of the process.\n"
     ]
    },
    {
     "name": "stdout",
     "output_type": "stream",
     "text": [
      "2109/2109 [==============================] - 72s 31ms/step - loss: 2.6830 - auc: 0.5239 - val_loss: 2.6274 - val_auc: 0.5475\n",
      "Epoch 2/64\n",
      "2109/2109 [==============================] - 28s 13ms/step - loss: 2.6331 - auc: 0.5505 - val_loss: 2.6069 - val_auc: 0.5791\n",
      "Epoch 3/64\n",
      "2109/2109 [==============================] - 27s 13ms/step - loss: 2.6162 - auc: 0.5687 - val_loss: 2.5914 - val_auc: 0.6031\n",
      "Epoch 4/64\n",
      "2109/2109 [==============================] - 26s 12ms/step - loss: 2.6035 - auc: 0.5842 - val_loss: 2.5783 - val_auc: 0.6210\n",
      "Epoch 5/64\n",
      "2109/2109 [==============================] - 26s 12ms/step - loss: 2.5927 - auc: 0.5982 - val_loss: 2.5655 - val_auc: 0.6367\n",
      "Epoch 6/64\n",
      "2109/2109 [==============================] - 25s 12ms/step - loss: 2.5808 - auc: 0.6144 - val_loss: 2.5509 - val_auc: 0.6545\n",
      "Epoch 7/64\n",
      "2109/2109 [==============================] - 24s 11ms/step - loss: 2.5654 - auc: 0.6365 - val_loss: 2.5312 - val_auc: 0.6786\n",
      "Epoch 8/64\n",
      "2109/2109 [==============================] - 25s 12ms/step - loss: 2.5433 - auc: 0.6671 - val_loss: 2.5090 - val_auc: 0.7045\n",
      "Epoch 9/64\n",
      "2109/2109 [==============================] - 26s 12ms/step - loss: 2.5220 - auc: 0.6946 - val_loss: 2.4979 - val_auc: 0.7186\n",
      "Epoch 10/64\n",
      "2109/2109 [==============================] - 25s 12ms/step - loss: 2.5085 - auc: 0.7105 - val_loss: 2.4932 - val_auc: 0.7245\n",
      "Epoch 11/64\n",
      "2109/2109 [==============================] - 25s 12ms/step - loss: 2.4998 - auc: 0.7197 - val_loss: 2.4898 - val_auc: 0.7279\n",
      "Epoch 12/64\n",
      "2109/2109 [==============================] - 24s 12ms/step - loss: 2.4933 - auc: 0.7262 - val_loss: 2.4868 - val_auc: 0.7300\n",
      "Epoch 13/64\n",
      "2109/2109 [==============================] - 25s 12ms/step - loss: 2.4879 - auc: 0.7311 - val_loss: 2.4842 - val_auc: 0.7318\n",
      "Epoch 14/64\n",
      "2109/2109 [==============================] - 25s 12ms/step - loss: 2.4833 - auc: 0.7352 - val_loss: 2.4818 - val_auc: 0.7333\n",
      "Epoch 15/64\n",
      "2109/2109 [==============================] - 25s 12ms/step - loss: 2.4794 - auc: 0.7385 - val_loss: 2.4795 - val_auc: 0.7346\n",
      "Epoch 16/64\n",
      "2109/2109 [==============================] - 25s 12ms/step - loss: 2.4757 - auc: 0.7417 - val_loss: 2.4776 - val_auc: 0.7357\n",
      "Epoch 17/64\n",
      "2109/2109 [==============================] - 24s 12ms/step - loss: 2.4725 - auc: 0.7445 - val_loss: 2.4759 - val_auc: 0.7366\n",
      "Epoch 18/64\n",
      "2109/2109 [==============================] - 24s 12ms/step - loss: 2.4697 - auc: 0.7468 - val_loss: 2.4742 - val_auc: 0.7374\n",
      "Epoch 19/64\n",
      "2109/2109 [==============================] - 25s 12ms/step - loss: 2.4671 - auc: 0.7487 - val_loss: 2.4727 - val_auc: 0.7380\n",
      "Epoch 20/64\n",
      "2109/2109 [==============================] - 24s 11ms/step - loss: 2.4648 - auc: 0.7505 - val_loss: 2.4714 - val_auc: 0.7386\n",
      "Epoch 21/64\n",
      "2109/2109 [==============================] - 25s 12ms/step - loss: 2.4625 - auc: 0.7522 - val_loss: 2.4697 - val_auc: 0.7390\n",
      "Epoch 22/64\n",
      "2109/2109 [==============================] - 25s 12ms/step - loss: 2.4605 - auc: 0.7536 - val_loss: 2.4684 - val_auc: 0.7394\n",
      "Epoch 23/64\n",
      "2109/2109 [==============================] - 25s 12ms/step - loss: 2.4585 - auc: 0.7549 - val_loss: 2.4671 - val_auc: 0.7397\n",
      "Epoch 24/64\n",
      "2109/2109 [==============================] - 25s 12ms/step - loss: 2.4567 - auc: 0.7560 - val_loss: 2.4656 - val_auc: 0.7400\n",
      "Epoch 25/64\n",
      "2109/2109 [==============================] - 24s 11ms/step - loss: 2.4550 - auc: 0.7570 - val_loss: 2.4641 - val_auc: 0.7403\n",
      "Epoch 26/64\n",
      "2109/2109 [==============================] - 24s 11ms/step - loss: 2.4531 - auc: 0.7580 - val_loss: 2.4628 - val_auc: 0.7406\n",
      "Epoch 27/64\n",
      "2109/2109 [==============================] - 24s 11ms/step - loss: 2.4517 - auc: 0.7587 - val_loss: 2.4615 - val_auc: 0.7408\n",
      "Epoch 28/64\n",
      "2109/2109 [==============================] - 25s 12ms/step - loss: 2.4502 - auc: 0.7595 - val_loss: 2.4601 - val_auc: 0.7408\n",
      "Epoch 29/64\n",
      "2109/2109 [==============================] - 23s 11ms/step - loss: 2.4487 - auc: 0.7602 - val_loss: 2.4593 - val_auc: 0.7408\n",
      "Epoch 30/64\n",
      "2109/2109 [==============================] - 23s 11ms/step - loss: 2.4474 - auc: 0.7609 - val_loss: 2.4585 - val_auc: 0.7410\n",
      "Epoch 31/64\n",
      "2109/2109 [==============================] - 24s 11ms/step - loss: 2.4463 - auc: 0.7614 - val_loss: 2.4576 - val_auc: 0.7410\n",
      "Epoch 32/64\n",
      "2109/2109 [==============================] - 23s 11ms/step - loss: 2.4450 - auc: 0.7621 - val_loss: 2.4571 - val_auc: 0.7411\n",
      "Epoch 33/64\n",
      "2109/2109 [==============================] - 25s 12ms/step - loss: 2.4438 - auc: 0.7628 - val_loss: 2.4564 - val_auc: 0.7412\n",
      "Epoch 34/64\n",
      "2109/2109 [==============================] - 24s 11ms/step - loss: 2.4427 - auc: 0.7634 - val_loss: 2.4561 - val_auc: 0.7411\n",
      "Epoch 35/64\n",
      "2109/2109 [==============================] - 23s 11ms/step - loss: 2.4416 - auc: 0.7640 - val_loss: 2.4558 - val_auc: 0.7410\n",
      "Epoch 36/64\n",
      "2109/2109 [==============================] - 23s 11ms/step - loss: 2.4405 - auc: 0.7645 - val_loss: 2.4555 - val_auc: 0.7411\n",
      "Epoch 37/64\n",
      "2109/2109 [==============================] - 23s 11ms/step - loss: 2.4395 - auc: 0.7651 - val_loss: 2.4552 - val_auc: 0.7410\n",
      "Epoch 38/64\n",
      "2109/2109 [==============================] - 24s 11ms/step - loss: 2.4387 - auc: 0.7655 - val_loss: 2.4549 - val_auc: 0.7409\n",
      "Epoch 39/64\n",
      "2109/2109 [==============================] - 23s 11ms/step - loss: 2.4377 - auc: 0.7660 - val_loss: 2.4546 - val_auc: 0.7408\n",
      "Epoch 40/64\n",
      "2109/2109 [==============================] - 23s 11ms/step - loss: 2.4365 - auc: 0.7666 - val_loss: 2.4545 - val_auc: 0.7407\n",
      "Epoch 41/64\n",
      "2109/2109 [==============================] - 24s 11ms/step - loss: 2.4358 - auc: 0.7669 - val_loss: 2.4542 - val_auc: 0.7407\n",
      "Epoch 42/64\n",
      "2109/2109 [==============================] - 22s 11ms/step - loss: 2.4349 - auc: 0.7672 - val_loss: 2.4538 - val_auc: 0.7406\n",
      "Epoch 43/64\n",
      "2109/2109 [==============================] - 23s 11ms/step - loss: 2.4338 - auc: 0.7678 - val_loss: 2.4537 - val_auc: 0.7406\n"
     ]
    }
   ],
   "source": [
    "seed_tensorflow(seed=para['seed'])\n",
    "es_callback = tf.keras.callbacks.EarlyStopping(\n",
    "    monitor='val_auc',  # 监控验证集损失\n",
    "    mode='max',          # 最小化验证集损失\n",
    "    patience=para['callback']['patience']  # 等待的轮数\n",
    ")\n",
    "\n",
    "checkpoint_auc = tf.keras.callbacks.ModelCheckpoint(\n",
    "    filepath=para['callback']['CPF_model'],  # 保存模型的路径\n",
    "    monitor='val_auc',  # 监控验证集 AUC\n",
    "    mode='max',          # 保存验证 AUC 最大的模型\n",
    "    save_weights_only=True,  # 只保存模型权重\n",
    "    save_best_only=True  # 只保存最佳模型\n",
    ")\n",
    "\n",
    "\n",
    "hist = model.fit(X_train,\n",
    "                 y_train,\n",
    "                 epochs=para['epochs'],\n",
    "                 batch_size=2048,\n",
    "                 shuffle=True,\n",
    "                 verbose=para['verbose'],\n",
    "                 callbacks=[checkpoint_auc,es_callback],\n",
    "                 validation_data=(X_valid,y_valid))"
   ]
  },
  {
   "cell_type": "code",
   "execution_count": 22,
   "metadata": {},
   "outputs": [
    {
     "name": "stderr",
     "output_type": "stream",
     "text": [
      "2024-07-29 02:44:08.984959: I tensorflow/core/common_runtime/gpu/gpu_device.cc:1929] Created device /job:localhost/replica:0/task:0/device:GPU:0 with 22283 MB memory:  -> device: 0, name: NVIDIA GeForce RTX 4090, pci bus id: 0000:43:00.0, compute capability: 8.9\n"
     ]
    },
    {
     "name": "stdout",
     "output_type": "stream",
     "text": [
      "146/146 [==============================] - 1s 3ms/step\n",
      "auc: 0.7284056\n",
      "logloss: 0.6084485\n"
     ]
    }
   ],
   "source": [
    "\n",
    "# infer\n",
    "\"\"\"\n",
    "0.78959733\n",
    "0.46864867\n",
    "\"\"\"\n",
    "\n",
    "seed_tensorflow(seed=para['seed'])\n",
    "model.load_weights(para['callback']['CPF_model'])\n",
    "y_test_pred = model.predict(X_test,batch_size=10000)\n",
    "auc_metric = tf.keras.metrics.AUC()\n",
    "auc_metric.update_state(y_test[0], y_test_pred)\n",
    "auc = auc_metric.result().numpy()\n",
    "\n",
    "logloss_metric = tf.keras.metrics.BinaryCrossentropy()\n",
    "\n",
    "logloss_metric.update_state(y_test[0], y_test_pred)\n",
    "log_loss = logloss_metric.result().numpy()\n",
    "print('auc:',auc)\n",
    "print('logloss:',log_loss)"
   ]
  },
  {
   "cell_type": "code",
   "execution_count": null,
   "metadata": {},
   "outputs": [],
   "source": []
  }
 ],
 "metadata": {
  "accelerator": "GPU",
  "colab": {
   "gpuType": "T4",
   "provenance": []
  },
  "kernelspec": {
   "display_name": "Python 3 (ipykernel)",
   "language": "python",
   "name": "python3"
  },
  "language_info": {
   "codemirror_mode": {
    "name": "ipython",
    "version": 3
   },
   "file_extension": ".py",
   "mimetype": "text/x-python",
   "name": "python",
   "nbconvert_exporter": "python",
   "pygments_lexer": "ipython3",
   "version": "3.10.8"
  }
 },
 "nbformat": 4,
 "nbformat_minor": 4
}
